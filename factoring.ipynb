{
 "metadata": {
  "language_info": {
   "codemirror_mode": {
    "name": "ipython",
    "version": 3
   },
   "file_extension": ".py",
   "mimetype": "text/x-python",
   "name": "python",
   "nbconvert_exporter": "python",
   "pygments_lexer": "ipython3",
   "version": "3.8.2-final"
  },
  "orig_nbformat": 2,
  "kernelspec": {
   "name": "python3",
   "display_name": "Python 3.8.2 64-bit",
   "metadata": {
    "interpreter": {
     "hash": "31f2aee4e71d21fbe5cf8b01ff0e069b9275f58929596ceb00d14d90e3e16cd6"
    }
   }
  }
 },
 "nbformat": 4,
 "nbformat_minor": 2,
 "cells": [
  {
   "source": [
    "# How to Factor Quadratic Polynomials\n",
    "\n",
    "This is a step-by-step guide to factoring any 3-term polynomial that can, in principle, be factored. To start, suppose we have a polynomial that looks like:\n",
    "\n",
    "$$ax^2 + bx + c$$\n",
    "\n",
    "In a real example, the terms for $a$, $b$, and $c$ will be integer constants, but we're using variables here to show that this technique is general.  Our goal is to find two simpler expressions whose product is equal to the polynomial.  In __every__ case, if there is an answer then it will take the form of:\n",
    "\n",
    "$$(rx+s)(tx+u)$$\n",
    "\n",
    "with $r$, $s$, $t$, $u$ being integers.  Thus, we're looking for specific values for those integers such that:\n",
    "\n",
    "$$(rx+s)(tx+u) = rtx^2 + (ru + st)x + su = ax^2 + ax + c$$\n",
    "\n",
    "This guide will do two things.  First, it will randomly generate a random quadratic factoring problem (that you can rerun to get a new problem over-and-over again).  Second, it will solve the problem in a step-by-step manner illustrating how to find the factors of the polynomial.\n",
    "\n",
    "Each part of this guide is written as a small bit of python code, but we'll have commentary at each step."
   ],
   "cell_type": "markdown",
   "metadata": {}
  },
  {
   "source": [
    "---\n",
    "\n",
    "## 1. Generate a random example"
   ],
   "cell_type": "markdown",
   "metadata": {}
  },
  {
   "cell_type": "code",
   "execution_count": 179,
   "metadata": {},
   "outputs": [],
   "source": [
    "# Need to easily get random numbers.\n",
    "import random\n",
    "\n",
    "# Produce a non-zero random number between -max ... max.\n",
    "def random_digit(max_size):\n",
    "    # Get a number between 1 ... max.\n",
    "    num = random.randint(1, max_size)\n",
    "    # Flip a coin to determine the sign.\n",
    "    sign = 1 if random.random() < 0.5 else -1\n",
    "    return num * sign"
   ]
  },
  {
   "cell_type": "code",
   "execution_count": 180,
   "metadata": {},
   "outputs": [],
   "source": [
    "# Produce a random quadratic polynomial that can be factored.\n",
    "\n",
    "def generate_polynomial():\n",
    "    # We will restrict the problems so that their solution always have small integers.\n",
    "    max_size = 5\n",
    "    r = random_digit(max_size)\n",
    "    s = random_digit(max_size)\n",
    "    t = random_digit(max_size)\n",
    "    u = random_digit(max_size)\n",
    "    # The answer will be (rx+s)(tx+u) but we're keeping that a secret for now.\n",
    "    # Instead, we cross multiply all of the terms to produce ax^2 + ax + c, as in:\n",
    "    # (rx+s)(tx+u) = rt x^2 + (ru + st) x + su = ax^2 + bx + c\n",
    "    a = r * t\n",
    "    b = r * u + s * t\n",
    "    c = s * u\n",
    "    # We only need to return the three coefficients\n",
    "    return (a, b, c)"
   ]
  },
  {
   "cell_type": "code",
   "execution_count": 181,
   "metadata": {},
   "outputs": [],
   "source": [
    "# Convert the three coefficients into a string that prints how we would expect.\n",
    "# The only reason for this function is to help us pretty print quadratics.\n",
    "\n",
    "def polynomial_string(abc):\n",
    "    (a, b, c) = abc\n",
    "    result = str(a) if abs(a) > 1 else \"\"\n",
    "    result += \"-\" if a == -1 else \"\"\n",
    "    result += \"x^2\" if abs(a) >= 1 else \"\"\n",
    "    if b:\n",
    "        if a: \n",
    "            result += \" - \" if b < 0 else \" + \"\n",
    "            result += str(abs(b)) if abs(b) > 1 else \"\"\n",
    "            result += \"x\"\n",
    "        else:\n",
    "            result += \"-\" if b < 0 else \"\"\n",
    "            result += str(abs(b)) if abs(b) > 1 else \"\"\n",
    "            result += \"x\"\n",
    "    if c:\n",
    "        result += \" - \" if c < 0 else \" + \"\n",
    "        result += str(abs(c))\n",
    "    return result\n"
   ]
  },
  {
   "source": [
    "The equation below is the quadratic that we want to factor."
   ],
   "cell_type": "markdown",
   "metadata": {}
  },
  {
   "cell_type": "code",
   "execution_count": 182,
   "metadata": {},
   "outputs": [
    {
     "output_type": "stream",
     "name": "stdout",
     "text": [
      "(a, b, c) = (6, -7, -20)\n6x^2 - 7x - 20\n"
     ]
    }
   ],
   "source": [
    "(a, b, c) = generate_polynomial()\n",
    "print(\"(a, b, c) =\", (a, b, c))\n",
    "print(polynomial_string((a, b, c)))"
   ]
  },
  {
   "source": [
    "---\n",
    "\n",
    "## 2. Find the groups\n",
    "\n",
    "We'll now find a way of splitting the middle term of the polynomial into two parts.  First, multiply a * c."
   ],
   "cell_type": "markdown",
   "metadata": {}
  },
  {
   "cell_type": "code",
   "execution_count": 183,
   "metadata": {},
   "outputs": [
    {
     "output_type": "stream",
     "name": "stdout",
     "text": [
      "-120\n"
     ]
    }
   ],
   "source": [
    "ac = a * c\n",
    "print(ac)"
   ]
  },
  {
   "source": [
    "We're now going to search over all factors of $ac$ (i.e., all possible pairs of integers, $j$ and $k$, such that $jk = ac$).\n",
    "If we find two factors that add up to $b$ (the middle term in the quadratic), then those will tell us how to form the groups."
   ],
   "cell_type": "markdown",
   "metadata": {}
  },
  {
   "cell_type": "code",
   "execution_count": 184,
   "metadata": {},
   "outputs": [
    {
     "output_type": "stream",
     "name": "stdout",
     "text": [
      "\t\t  -1  *  120 = -120 \t   -1  +  120 =  119\n\t\t  -2  *   60 = -120 \t   -2  +   60 =   58\n\t\t  -3  *   40 = -120 \t   -3  +   40 =   37\n\t\t  -4  *   30 = -120 \t   -4  +   30 =   26\n\t\t  -5  *   24 = -120 \t   -5  +   24 =   19\n\t\t  -6  *   20 = -120 \t   -6  +   20 =   14\n\t\t  -8  *   15 = -120 \t   -8  +   15 =    7\n\t\t -10  *   12 = -120 \t  -10  +   12 =    2\n\t\t -12  *   10 = -120 \t  -12  +   10 =   -2\nSUCCESS!\t -15  *    8 = -120 \t  -15  +    8 =   -7\n"
     ]
    }
   ],
   "source": [
    "# At the end of this code block, j and k will contain the numbers that we need. \n",
    "j, k = None, None\n",
    "for i in range(1, abs(ac) + 1):\n",
    "    if ac % i == 0:\n",
    "        j = -i if (a < 0 and b < 0) or (a > 0 and b < 0) else i\n",
    "        k = ac // j\n",
    "        status = \"SUCCESS!\" if (j + k == b) else \"\\t\"\n",
    "        print (\"%s\\t%4d  * %4d = %4d \\t %4d  + %4d = %4d\" % (status, j, k, j*k, j, k, j+k))\n",
    "        if (j + k == b): break"
   ]
  },
  {
   "source": [
    "We're now going to split the quadratic into four terms.  Remember, we started with:"
   ],
   "cell_type": "markdown",
   "metadata": {}
  },
  {
   "cell_type": "code",
   "execution_count": 185,
   "metadata": {},
   "outputs": [
    {
     "output_type": "stream",
     "name": "stdout",
     "text": [
      "6x^2 - 7x - 20\n"
     ]
    }
   ],
   "source": [
    "print(polynomial_string((a, b, c)))"
   ]
  },
  {
   "source": [
    "We can convert the above into $(ax^2 + jx) + (kx + x)$."
   ],
   "cell_type": "markdown",
   "metadata": {}
  },
  {
   "cell_type": "code",
   "execution_count": 186,
   "metadata": {},
   "outputs": [
    {
     "output_type": "stream",
     "name": "stdout",
     "text": [
      "(6x^2 - 15x) + (8x - 20)\n"
     ]
    }
   ],
   "source": [
    "LHS = polynomial_string((a, j, 0))\n",
    "RHS = polynomial_string((0, k, c))\n",
    "print('(', LHS, \") + (\", RHS, ')', sep='')"
   ]
  },
  {
   "source": [
    "Now, we can factor the above in parts by computing the greatest common denominators for the terms on the left and right sides (seperately)."
   ],
   "cell_type": "markdown",
   "metadata": {}
  },
  {
   "cell_type": "code",
   "execution_count": 187,
   "metadata": {},
   "outputs": [],
   "source": [
    "# Euclid's algorithm for finding the GCD\n",
    "\n",
    "def gcd(x, y):\n",
    "    return x if y == 0 else gcd(y, x % y) "
   ]
  },
  {
   "source": [
    "We'll refer to the GCD of the left and right sides as l and r\n"
   ],
   "cell_type": "markdown",
   "metadata": {}
  },
  {
   "cell_type": "code",
   "execution_count": 188,
   "metadata": {},
   "outputs": [],
   "source": [
    "l = gcd(a, j)\n",
    "r = gcd(k, c)"
   ]
  },
  {
   "source": [
    "These newly factored groups can now be written as:"
   ],
   "cell_type": "markdown",
   "metadata": {}
  },
  {
   "cell_type": "code",
   "execution_count": 189,
   "metadata": {},
   "outputs": [
    {
     "output_type": "stream",
     "name": "stdout",
     "text": [
      "-3x * (-2x + 5) + -4 * (-2x + 5)\n"
     ]
    }
   ],
   "source": [
    "LHS = str(l) + \"x * (\" + polynomial_string((0, a // l, j // l)) + \")\"\n",
    "RHS = str(r) + \" * (\" +  polynomial_string((0, k // r, c // r)) + \")\"\n",
    "print(LHS, \"+\", RHS)"
   ]
  },
  {
   "source": [
    "If we did everything correctly, then then the refactored groups should now be the same, allowing us to treat the group as a common factor."
   ],
   "cell_type": "markdown",
   "metadata": {}
  },
  {
   "cell_type": "code",
   "execution_count": 190,
   "metadata": {},
   "outputs": [
    {
     "output_type": "stream",
     "name": "stdout",
     "text": [
      "6x^2 - 7x - 20   =   (-3x - 4) * (-2x + 5)\n"
     ]
    }
   ],
   "source": [
    "LHS = polynomial_string((0, l, r))\n",
    "RHS = polynomial_string((0, a // l, j // l))\n",
    "print(polynomial_string((a, b, c)), \"  =  \", \"(\" + LHS + \") * (\" + RHS + \")\")\n"
   ]
  },
  {
   "cell_type": "code",
   "execution_count": null,
   "metadata": {},
   "outputs": [],
   "source": []
  }
 ]
}