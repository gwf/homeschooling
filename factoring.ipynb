{
 "metadata": {
  "language_info": {
   "codemirror_mode": {
    "name": "ipython",
    "version": 3
   },
   "file_extension": ".py",
   "mimetype": "text/x-python",
   "name": "python",
   "nbconvert_exporter": "python",
   "pygments_lexer": "ipython3",
   "version": "3.8.2-final"
  },
  "orig_nbformat": 2,
  "kernelspec": {
   "name": "python3",
   "display_name": "Python 3.8.2 64-bit",
   "metadata": {
    "interpreter": {
     "hash": "31f2aee4e71d21fbe5cf8b01ff0e069b9275f58929596ceb00d14d90e3e16cd6"
    }
   }
  }
 },
 "nbformat": 4,
 "nbformat_minor": 2,
 "cells": [
  {
   "source": [
    "# How to Factor Quadratic Polynomials\n",
    "\n",
    "This is a step-by-step guide to factoring any 3-term polynomial that can, in principle, be factored. To start, suppose we have a polynomial that looks like:\n",
    "\n",
    "$$ax^2 + bx + c$$\n",
    "\n",
    "In a real example, the terms for $a$, $b$, and $c$ will be integer constants, but we're using variables here to show that this technique is general.  Our goal is to find two simpler expressions whose product is equal to the polynomial.  In __every__ case, if there is an answer then it will take the form of:\n",
    "\n",
    "$$(rx+s)(tx+u)$$\n",
    "\n",
    "with $r$, $s$, $t$, $u$ being integers.  Thus, we're looking for specific values for those integers such that:\n",
    "\n",
    "$$(rx+s)(tx+u) = rtx^2 + (ru + st)x + su = ax^2 + bx + c$$\n",
    "\n",
    "This guide will do two things.  First, it will randomly generate a random quadratic factoring problem (that you can rerun to get a new problem over-and-over again).  Second, it will solve the problem in a step-by-step manner illustrating how to find the factors of the polynomial.\n",
    "\n",
    "The rest of this guide is split into three parts:\n",
    "\n",
    "* **Python functions** for generating, displaying, and solving factoring problems.  You don't need to understand the code in order to understand the factoring technique.  However, it's there in case you want to get into the deatils.\n",
    "\n",
    "    > Note: you need to run this cell exactly once after this notebook is loaded.\n",
    "\n",
    "* Inline Python code for **randomly generating a quadratic** factoring problem.  This cell can be rerun mutiple times to generate new problems as needed.  You may wish to modify the _difficulty_ parameter, which corresponds to the maximum value of the terms within the factoring solution.\n",
    "\n",
    "* Inline Python code for **factoring a quadratic**.  These cells should be run in sequence only after the previous.  They will show each step to the solution.\n"
   ],
   "cell_type": "markdown",
   "metadata": {}
  },
  {
   "source": [
    "## Python functions - Run this cell once to start"
   ],
   "cell_type": "markdown",
   "metadata": {}
  },
  {
   "cell_type": "code",
   "execution_count": null,
   "metadata": {},
   "outputs": [],
   "source": [
    "# NB: this notebook uses several global variables:\n",
    "#     difficulty   - the max magnitude of the terms in the answer;\n",
    "#     a, b, c      - the coefficients for the generated problem;\n",
    "#     poly         - the problem converted into a string;\n",
    "#     j, k         - the factors of a*c such that j + k = b;\n",
    "#     l, r         - the GCD of the left/right groups;\n",
    "#     LHS, RHS     - temporary strings for displaying steps;\n",
    "#     current_step - where we are in the solution;\n",
    "\n",
    "# Module for generating random numbers.\n",
    "import random\n",
    "\n",
    "################################################################################\n",
    "\n",
    "# Function to produce a non-zero random number between -maxabs ... maxabs.\n",
    "\n",
    "def random_digit(maxabs):\n",
    "    num = random.randint(1, maxabs)\n",
    "    sign = 1 if random.random() < 0.5 else -1\n",
    "    return sign * num\n",
    "\n",
    "################################################################################\n",
    "\n",
    "# Function to produce a random quadratic that can be cleanly factored.\n",
    "\n",
    "def generate_polynomial(maxabs):\n",
    "    # Randomly generate a solution by picking r, s, t, and u\n",
    "    r = random_digit(maxabs)\n",
    "    s = random_digit(maxabs)\n",
    "    t = random_digit(maxabs)\n",
    "    u = random_digit(maxabs)\n",
    "    # The final answer will be (rx+s)(tx+u) but this is never displayed.\n",
    "    # Instead, we multiply all of the terms to produce:\n",
    "    #    ax^2 + bx + c = (rx+s)(tx+u) = rt x^2 + (ru + st) x + su\n",
    "    a = r * t\n",
    "    b = r * u + s * t\n",
    "    c = s * u\n",
    "    return (a, b, c)\n",
    "\n",
    "################################################################################\n",
    "\n",
    "# Function to convert the quadratic into a pretty printable string.  Note that\n",
    "# (a, b, c) = abc, and if any of a, b, or c is zero, it nicely omits the\n",
    "# corresponding term.  As a result, this function can be used to convert the\n",
    "# factors in the solution as well.\n",
    "\n",
    "def polynomial_string(abc):\n",
    "    (a, b, c), poly = abc, \"\"\n",
    "    if a: \n",
    "        poly += str(a) if abs(a) > 1 else { -1: '-', 1: ''}[a]\n",
    "        poly += \"x^2\"\n",
    "    if b:\n",
    "        if a: poly += \" - \" if b < 0 else \" + \"\n",
    "        else: poly += \"-\" if b < 0 else \"\"\n",
    "        poly += str(abs(b)) if abs(b) > 1 else \"\"\n",
    "        poly += \"x\"\n",
    "    if c:\n",
    "        poly += \" - \" if c < 0 else \" + \"\n",
    "        poly += str(abs(c))\n",
    "    return poly\n",
    "\n",
    "################################################################################\n",
    "\n",
    "# Function to find factors j and k of a*c such that j + k = b.\n",
    "\n",
    "def search_coefficients(a, b, c):\n",
    "    ac = a * c\n",
    "    for i in range(1, abs(ac) + 1):\n",
    "        if ac % i == 0:\n",
    "            j = -i if b < 0 else i\n",
    "            k = ac // j\n",
    "            print (\"\\t%4d  * %4d = %4d \\t %4d  + %4d = %4d\" \n",
    "                    % (j, k, j*k, j, k, j+k))\n",
    "            if (j + k == b): \n",
    "                print(\"SUCCESS :-)\")\n",
    "                return (j, k)\n",
    "    print(\"FAILURE :-(\")\n",
    "\n",
    "################################################################################\n",
    "\n",
    "# Euclid's algorithm for finding the GCD, which we'll use to factor groups.\n",
    "\n",
    "def gcd(x, y):\n",
    "    return x if y == 0 else gcd(y, x % y) \n",
    "\n",
    "################################################################################\n",
    "\n",
    "# Function to check that the steps are done in order.\n",
    "\n",
    "current_step = -1\n",
    "def step(next_step):\n",
    "    global current_step\n",
    "    if next_step == 0 or next_step == current_step + 1:\n",
    "        current_step = next_step\n",
    "        return True\n",
    "    if next_step <= current_step:\n",
    "        print(\"(Repeating this step...)\")\n",
    "        return True\n",
    "    print(\"Oops, you need to go back and do step\", current_step + 1, \"first.\")\n",
    "    return False"
   ]
  },
  {
   "source": [
    "## Randomly generating a quadratic - Rerun to get a new problem"
   ],
   "cell_type": "markdown",
   "metadata": {}
  },
  {
   "cell_type": "code",
   "execution_count": null,
   "metadata": {},
   "outputs": [],
   "source": [
    "if step(0):\n",
    "    difficulty = 2\n",
    "    (a, b, c) = abc = generate_polynomial(difficulty)\n",
    "    poly = polynomial_string(abc)\n",
    "    print(\"Coefficients:\\n\\ta = %d, b = %d, c = %d\\n\" % abc)\n",
    "    print(\"Polynomial:\\n\\t\", poly, sep='')"
   ]
  },
  {
   "source": [
    "\n",
    "## Factoring a quadratic - Run each step in sequence to update solution"
   ],
   "cell_type": "markdown",
   "metadata": {}
  },
  {
   "cell_type": "code",
   "execution_count": null,
   "metadata": {},
   "outputs": [],
   "source": [
    "if step(1):\n",
    "    print(\"Step 1: Find two factors of %d that add to %d:\" % (a * c, b))\n",
    "    (j, k) = search_coefficients(a, b, c)\n",
    "    print(\"\\n\")"
   ]
  },
  {
   "cell_type": "code",
   "execution_count": null,
   "metadata": {},
   "outputs": [],
   "source": [
    "if step(2):\n",
    "    print(\"Step 2: Split the middle term into the two factors:\")\n",
    "    LHS = polynomial_string((a, 0, 0))\n",
    "    RHS = polynomial_string((0, 0, c))\n",
    "    print(\"\\t%s   =   %s + (%d + %d)x%s\\n\\n\" % (poly, LHS, j, k, RHS))"
   ]
  },
  {
   "cell_type": "code",
   "execution_count": null,
   "metadata": {},
   "outputs": [],
   "source": [
    "if step(3):\n",
    "    print(\"Step 3: Rewrite with the two new terms regrouped to either side:\")\n",
    "    print(\"\\t%s   =   (%s + %dx) + (%dx%s)\\n\\n\" % (poly, LHS, j, k, RHS))"
   ]
  },
  {
   "cell_type": "code",
   "execution_count": null,
   "metadata": {},
   "outputs": [],
   "source": [
    "if step(4):\n",
    "    print(\"Step 4: Seperately factor each group:\")\n",
    "    (l, r) = gcd(a, j), gcd(k, c)\n",
    "    LHS = polynomial_string((0, a // l, j // l))\n",
    "    RHS = polynomial_string((0, k // r, c // r)) \n",
    "    print(\"\\t%s   =   %dx * (%s) + %d * (%s)\\n\\n\" % (poly, l, LHS, r, RHS))"
   ]
  },
  {
   "cell_type": "code",
   "execution_count": null,
   "metadata": {},
   "outputs": [],
   "source": [
    "if step(5):\n",
    "    print(\"Step 5: Now seperately regroup the new factors:\")\n",
    "    LHS = polynomial_string((0, l, r))\n",
    "    RHS = polynomial_string((0, a // l, j // l))\n",
    "    print(\"\\t%s   =   (%s) * (%s)\\n\\n\" % (poly, LHS, RHS))"
   ]
  },
  {
   "cell_type": "code",
   "execution_count": null,
   "metadata": {},
   "outputs": [],
   "source": []
  }
 ]
}
